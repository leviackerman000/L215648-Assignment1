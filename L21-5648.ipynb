{
 "cells": [
  {
   "cell_type": "code",
   "execution_count": 1,
   "id": "0be97235",
   "metadata": {},
   "outputs": [
    {
     "name": "stdout",
     "output_type": "stream",
     "text": [
      "True\n",
      "False\n",
      "True\n"
     ]
    }
   ],
   "source": [
    "def checkinput(test):\n",
    "    rows = len(test)\n",
    "    cols = len(test [0])\n",
    "    for r in range(rows):\n",
    "      for c in range(cols):\n",
    "          if type(test[r][c]) == str:\n",
    "              return False\n",
    "          elif c + 1 < cols:\n",
    "              if test[r][c] == test[r][c+1]:\n",
    "                  return False\n",
    "    for c in range(cols):\n",
    "        for r in range(rows):\n",
    "            if r+1 < rows:\n",
    "              if test[r][c] == test[r+1][c]:\n",
    "                  return False\n",
    "    return True\n",
    "test1 = [[1, 2, 3],\n",
    "        [2, 3, 1],\n",
    "        [3, 1, 2]]\n",
    "\n",
    "test2 = [[1, 2, 3, 4],\n",
    "        [2, 3, 1, 3],\n",
    "        [3, 1, 2, 3],\n",
    "        [4, 4, 4, 4]]\n",
    "\n",
    "test3 = [['a', 'b', 'c'],\n",
    "        ['b', 'c', 'a'],\n",
    "        ['c', 'a', 'b']]\n",
    "\n",
    "print(check_input(test1)) # must return true\n",
    "print(check_input(test2)) # must return false\n",
    "print(check_input(test3)) # must return true\n",
    "\n",
    "\n"
   ]
  },
  {
   "cell_type": "code",
   "execution_count": 2,
   "id": "37ba22ee",
   "metadata": {},
   "outputs": [
    {
     "name": "stdout",
     "output_type": "stream",
     "text": [
      "<class 'pandas.core.frame.DataFrame'>\n",
      "RangeIndex: 200 entries, 0 to 199\n",
      "Data columns (total 4 columns):\n",
      " #   Column        Non-Null Count  Dtype  \n",
      "---  ------        --------------  -----  \n",
      " 0   Student name  200 non-null    object \n",
      " 1   Exam name     199 non-null    object \n",
      " 2   Exam date     200 non-null    object \n",
      " 3   Marks         197 non-null    float64\n",
      "dtypes: float64(1), object(3)\n",
      "memory usage: 6.4+ KB\n"
     ]
    },
    {
     "data": {
      "text/html": [
       "<div>\n",
       "<style scoped>\n",
       "    .dataframe tbody tr th:only-of-type {\n",
       "        vertical-align: middle;\n",
       "    }\n",
       "\n",
       "    .dataframe tbody tr th {\n",
       "        vertical-align: top;\n",
       "    }\n",
       "\n",
       "    .dataframe thead th {\n",
       "        text-align: right;\n",
       "    }\n",
       "</style>\n",
       "<table border=\"1\" class=\"dataframe\">\n",
       "  <thead>\n",
       "    <tr style=\"text-align: right;\">\n",
       "      <th></th>\n",
       "      <th>Student name</th>\n",
       "      <th>Exam name</th>\n",
       "      <th>Exam date</th>\n",
       "      <th>Marks</th>\n",
       "    </tr>\n",
       "  </thead>\n",
       "  <tbody>\n",
       "    <tr>\n",
       "      <th>0</th>\n",
       "      <td>James Walker</td>\n",
       "      <td>Biology</td>\n",
       "      <td>05/06/2016</td>\n",
       "      <td>31.0</td>\n",
       "    </tr>\n",
       "    <tr>\n",
       "      <th>1</th>\n",
       "      <td>Velma Clemons</td>\n",
       "      <td>Biology</td>\n",
       "      <td>05/06/2016</td>\n",
       "      <td>43.0</td>\n",
       "    </tr>\n",
       "    <tr>\n",
       "      <th>2</th>\n",
       "      <td>Kibo Underwood</td>\n",
       "      <td>Biology</td>\n",
       "      <td>05/06/2016</td>\n",
       "      <td>81.0</td>\n",
       "    </tr>\n",
       "    <tr>\n",
       "      <th>3</th>\n",
       "      <td>Louis Mcgee</td>\n",
       "      <td>Biology</td>\n",
       "      <td>05/06/2016</td>\n",
       "      <td>11.0</td>\n",
       "    </tr>\n",
       "    <tr>\n",
       "      <th>4</th>\n",
       "      <td>Phyllis Paul</td>\n",
       "      <td>Biology</td>\n",
       "      <td>05/06/2016</td>\n",
       "      <td>18.0</td>\n",
       "    </tr>\n",
       "  </tbody>\n",
       "</table>\n",
       "</div>"
      ],
      "text/plain": [
       "     Student name Exam name   Exam date  Marks\n",
       "0    James Walker   Biology  05/06/2016   31.0\n",
       "1   Velma Clemons   Biology  05/06/2016   43.0\n",
       "2  Kibo Underwood   Biology  05/06/2016   81.0\n",
       "3     Louis Mcgee   Biology  05/06/2016   11.0\n",
       "4    Phyllis Paul   Biology  05/06/2016   18.0"
      ]
     },
     "execution_count": 2,
     "metadata": {},
     "output_type": "execute_result"
    }
   ],
   "source": [
    "import pandas as pd\n",
    "stms=pd.read_csv('StudentMarkSheet.csv')\n",
    "stms.info()\n",
    "\n",
    "stms.head()\n"
   ]
  },
  {
   "cell_type": "code",
   "execution_count": 3,
   "id": "865ca163",
   "metadata": {},
   "outputs": [
    {
     "name": "stdout",
     "output_type": "stream",
     "text": [
      "200 \n",
      "\n",
      "4 \n",
      "\n",
      "196\n"
     ]
    }
   ],
   "source": [
    "print(len(stms),\"\\n\")\n",
    "\n",
    "nr=len(stms) - len(stms.dropna())\n",
    "print (nr,\"\\n\")\n",
    "ra=len(stms.dropna())\n",
    "print (ra)\n"
   ]
  },
  {
   "cell_type": "code",
   "execution_count": 4,
   "id": "d625b176",
   "metadata": {},
   "outputs": [
    {
     "name": "stdout",
     "output_type": "stream",
     "text": [
      "Student name = James Walker\n",
      "        Exam name  Marks\n",
      "0        Biology   31.0\n",
      "42     Chemistry   61.0\n",
      "71   Mathematics   23.0\n",
      "150      Physics  100.0\n",
      "180    Sociology   73.0\n"
     ]
    }
   ],
   "source": [
    "print('Student name = James Walker\\n',\n",
    "    stms[stms['Student name'] == 'James Walker']\n",
    "    [['Exam name','Marks']]\n",
    "    )"
   ]
  },
  {
   "cell_type": "code",
   "execution_count": 5,
   "id": "3e388f59",
   "metadata": {},
   "outputs": [
    {
     "name": "stdout",
     "output_type": "stream",
     "text": [
      "50.40609137055838\n"
     ]
    }
   ],
   "source": [
    "import numpy as np\n",
    "avgM = stms['Marks'].agg(np.mean)\n",
    "print (avgM)"
   ]
  },
  {
   "cell_type": "code",
   "execution_count": 6,
   "id": "67c847e0",
   "metadata": {},
   "outputs": [
    {
     "data": {
      "image/png": "[encoded data removed]",
      "text/plain": [
       "<Figure size 432x288 with 1 Axes>"
      ]
     },
     "metadata": {
      "needs_background": "light"
     },
     "output_type": "display_data"
    }
   ],
   "source": [
    "import matplotlib.pyplot as plt\n",
    "exam = ['biology', 'chemistry', 'Mathematics', 'philosophy', 'Physics','sociology']\n",
    "plt.bar(exam,avgM)\n",
    "plt.xlabel(\"exam names\")\n",
    "plt.ylabel(\"average marks\")\n",
    "plt.show()"
   ]
  },
  {
   "cell_type": "code",
   "execution_count": 7,
   "id": "486b2bc9",
   "metadata": {},
   "outputs": [
    {
     "name": "stdout",
     "output_type": "stream",
     "text": [
      "<class 'pandas.core.frame.DataFrame'>\n",
      "RangeIndex: 342 entries, 0 to 341\n",
      "Data columns (total 2 columns):\n",
      " #   Column            Non-Null Count  Dtype  \n",
      "---  ------            --------------  -----  \n",
      " 0   Tail Length (cm)  342 non-null    float64\n",
      " 1   Mass (kg)         342 non-null    float64\n",
      "dtypes: float64(2)\n",
      "memory usage: 5.5 KB\n",
      "342 \n",
      "\n",
      "0 \n",
      "\n",
      "342\n"
     ]
    }
   ],
   "source": [
    "cd = pd.read_csv('CatData.csv')\n",
    "cd.info()\n",
    "print(len(cd),\"\\n\")\n",
    "\n",
    "nr=len(cd) - len(cd.dropna())\n",
    "print (nr,\"\\n\")\n",
    "ra=len(cd.dropna())\n",
    "print (ra)\n",
    "# it means no null values"
   ]
  },
  {
   "cell_type": "code",
   "execution_count": 8,
   "id": "f3956848",
   "metadata": {},
   "outputs": [],
   "source": [
    "#Main function to find the coefficients of Line:\n",
    "def simple_linear_regression(input_feature,output):\n",
    "    \n",
    "    Xi = input_feature\n",
    "    Yi = output\n",
    "    \n",
    "    #Total number of data points:\n",
    "    n = len(Xi)\n",
    "    \n",
    "    #X bar:\n",
    "    Xi_mean = Xi.mean()\n",
    "    \n",
    "    #Y bar:\n",
    "    Yi_mean = Yi.mean()\n",
    "    \n",
    "    #Sum of X:\n",
    "    S_Xi = (Xi).sum()\n",
    "    \n",
    "    #Sum of Y:\n",
    "    S_Yi = (Yi).sum()\n",
    "    \n",
    "    #Sum of (X*Y) multiplied by n:\n",
    "    S_XiYi = ((Xi*Yi).sum())*n\n",
    "    \n",
    "    #Sum of X*Sum of Y:\n",
    "    S_Xi_S_Yi = S_Xi*S_Yi\n",
    "    \n",
    "    #Sum of (X*X) multiplied by n:\n",
    "    S_XiXi = ((Xi*Xi).sum())*n\n",
    "    \n",
    "    #Square of sum of X:\n",
    "    S_Xi_Square = S_Xi*S_Xi\n",
    "    \n",
    "    #SLope:\n",
    "    slope = (S_XiYi- S_Xi_S_Yi) / (S_XiXi-S_Xi_Square)\n",
    "    \n",
    "    #Intercept:\n",
    "    intercept = Yi_mean - slope * Xi_mean\n",
    "    \n",
    "    return slope, intercept\n",
    "\n",
    "val = int(len(cd)*0.8)\n",
    "train = cd[:val]\n",
    "test = cd[val:]\n",
    "\n",
    "actual_slope, actual_intercept = simple_linear_regression(train['Mass (kg)'], train['Tail Length (cm)'])\n",
    "\n",
    "from sklearn.linear_model import LinearRegression\n",
    "\n",
    "train_x = np.array(train[['Mass (kg)']])\n",
    "train_y = np.array(train[['Tail Length (cm)']])\n",
    "\n",
    "reg = LinearRegression().fit(train_x, train_y)\n",
    "\n",
    "coeff = reg.coef_\n",
    "intercept = reg.intercept_"
   ]
  },
  {
   "cell_type": "code",
   "execution_count": 9,
   "id": "ea1174e2",
   "metadata": {},
   "outputs": [
    {
     "name": "stdout",
     "output_type": "stream",
     "text": [
      "Slope [[1.59183664]]\n",
      "Y-intercept [13.34657289]\n"
     ]
    }
   ],
   "source": [
    "print('Slope', coeff)\n",
    "print('Y-intercept', intercept)"
   ]
  },
  {
   "cell_type": "code",
   "execution_count": 10,
   "id": "9bb69b58",
   "metadata": {},
   "outputs": [
    {
     "data": {
      "image/png": "[encoded data removed]",
      "text/plain": [
       "<Figure size 432x288 with 1 Axes>"
      ]
     },
     "metadata": {
      "needs_background": "light"
     },
     "output_type": "display_data"
    }
   ],
   "source": [
    "plt.scatter(train['Mass (kg)'], train['Tail Length (cm)'], c='black')\n",
    "plt.plot(train_x, coeff[0]*train_x + intercept, color='red')\n",
    "plt.xlabel('Mass (kg)'); plt.ylabel('Tail Length (cm)')\n",
    "plt.show()"
   ]
  },
  {
   "cell_type": "code",
   "execution_count": null,
   "id": "11dc1bd0",
   "metadata": {},
   "outputs": [],
   "source": []
  }
 ],
 "metadata": {
  "kernelspec": {
   "display_name": "Python 3 (ipykernel)",
   "language": "python",
   "name": "python3"
  },
  "language_info": {
   "codemirror_mode": {
    "name": "ipython",
    "version": 3
   },
   "file_extension": ".py",
   "mimetype": "text/x-python",
   "name": "python",
   "nbconvert_exporter": "python",
   "pygments_lexer": "ipython3",
   "version": "3.9.12"
  }
 },
 "nbformat": 4,
 "nbformat_minor": 5
}
